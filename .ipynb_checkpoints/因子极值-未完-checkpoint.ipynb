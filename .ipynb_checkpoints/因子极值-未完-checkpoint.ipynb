{
 "cells": [
  {
   "cell_type": "markdown",
   "metadata": {},
   "source": [
    "<font size=5>策略设置：\n",
    "    \n",
    "    策略设置：\n",
    "    每个自然月末作为策略的起点，\n",
    "    为各行业选取的适用因子及方向，分别计算行业的因子极值比例ER，并采用各行业样本内最优的百分比ratio计算阈值。\n",
    "    当某一行业任何一个ER超过阈值，则将其作为备选超配行业。\n",
    "    因各行业选择的因子数据更新频率不一，导致备选超配行业的个数差距较大，\n",
    "    为了平滑收益，我们按照各行业超越阈值的最大幅度从大到小进行排序，每期配置排名靠前的不多于五个行业，持有期为一个月。"
   ]
  },
  {
   "cell_type": "code",
   "execution_count": 2,
   "metadata": {
    "ExecuteTime": {
     "end_time": "2021-05-27T12:14:02.047146Z",
     "start_time": "2021-05-27T12:13:59.765972Z"
    }
   },
   "outputs": [],
   "source": [
    "import pandas as pd\n",
    "import numpy as np\n",
    "import akshare as ak\n",
    "import statsmodels.formula as smFormula\n",
    "import statsmodels.api as smApi\n",
    "from operator import methodcaller\n",
    "import datetime"
   ]
  },
  {
   "cell_type": "code",
   "execution_count": 6,
   "metadata": {
    "ExecuteTime": {
     "end_time": "2021-05-27T13:45:50.736957Z",
     "start_time": "2021-05-27T13:45:50.065931Z"
    },
    "scrolled": true
   },
   "outputs": [
    {
     "data": {
      "text/plain": [
       "'\\n  index_code index_name       date    close volume chg_pct turn_rate     pe       pb   vwap  float_mv avg_float_mv dividend_yield_ratio turnover_pct  \\n0     801010       农林牧渔 2019-12-06  3273.24  36.13    0.61    1.1533  31.62   3.51  12.24  8,360.39        99.53                 1.19         2.62  \\n1     801010       农林牧渔 2019-11-29  3253.34  36.30   -1.48    1.0256  31.43   3.49  12.07  8,275.56        98.52                 1.20         2.60  \\n'"
      ]
     },
     "execution_count": 6,
     "metadata": {},
     "output_type": "execute_result"
    }
   ],
   "source": [
    "# 申万一级行业实时行情\n",
    "sw_index_spot_df = ak.sw_index_spot()\n",
    "# 申万一级行业成份\n",
    "sw_index_df = ak.sw_index_cons(index_code=\"801010\")\n",
    "\"\"\"\n",
    " stock_code stock_name          start_date  weight\n",
    "0      000048        康达尔 2011-10-10 00:00:00  0.4648\n",
    "1      000505       京粮控股 2018-07-16 00:00:00  0.2636\n",
    "\"\"\"\n",
    "# 申万一级行业历史行情\n",
    "sw_index_df = ak.sw_index_daily(index_code=\"801010\", start_date=\"2021-04-24\", end_date=\"2021-05-24\")\n",
    "\"\"\"\n",
    "  index_code index_name       date     open     high      low    close   vol     amount    change_pct  \n",
    "0     801010       农林牧渔 2019-12-06  3278.67  3301.18  3263.89  3273.24  7.63   106.32       0.03  \n",
    "1     801010       农林牧渔 2019-12-05  3278.81  3278.81  3252.86  3272.12  6.93   85.40       0.11  \n",
    "\"\"\"\n",
    "# 申万一级行业历史行情指标\n",
    "sw_index_df = ak.sw_index_daily_indicator(index_code=\"801010\", start_date=\"2021-04-24\", end_date=\"2021-05-24\", data_type=\"Day\")\n",
    "\"\"\"\n",
    "  index_code     index_name  date    close volume chg_pct turn_rate     pe       pb   vwap  float_mv avg_float_mv dividend_yield_ratio turnover_pct  \n",
    "0     801010       农林牧渔 2019-12-06  3273.24  36.13    0.61    1.1533  31.62   3.51  12.24  8,360.39        99.53                 1.19         2.62  \n",
    "1     801010       农林牧渔 2019-11-29  3253.34  36.30   -1.48    1.0256  31.43   3.49  12.07  8,275.56        98.52                 1.20         2.60  \n",
    "\"\"\""
   ]
  },
  {
   "cell_type": "markdown",
   "metadata": {},
   "source": [
    "    市值、利润增长率、ROE、ROA、销售毛利率、一月涨幅、月平均换手率、10日成交额(小)、60日涨幅(小)、5年资产回报率(大)、动态市盈率(小)"
   ]
  },
  {
   "cell_type": "code",
   "execution_count": null,
   "metadata": {},
   "outputs": [],
   "source": []
  },
  {
   "cell_type": "code",
   "execution_count": null,
   "metadata": {},
   "outputs": [],
   "source": []
  }
 ],
 "metadata": {
  "kernelspec": {
   "display_name": "Python 3",
   "language": "python",
   "name": "python3"
  },
  "language_info": {
   "codemirror_mode": {
    "name": "ipython",
    "version": 3
   },
   "file_extension": ".py",
   "mimetype": "text/x-python",
   "name": "python",
   "nbconvert_exporter": "python",
   "pygments_lexer": "ipython3",
   "version": "3.7.6"
  },
  "toc": {
   "base_numbering": 1,
   "nav_menu": {},
   "number_sections": true,
   "sideBar": true,
   "skip_h1_title": false,
   "title_cell": "Table of Contents",
   "title_sidebar": "Contents",
   "toc_cell": false,
   "toc_position": {},
   "toc_section_display": true,
   "toc_window_display": false
  },
  "varInspector": {
   "cols": {
    "lenName": 16,
    "lenType": 16,
    "lenVar": 40
   },
   "kernels_config": {
    "python": {
     "delete_cmd_postfix": "",
     "delete_cmd_prefix": "del ",
     "library": "var_list.py",
     "varRefreshCmd": "print(var_dic_list())"
    },
    "r": {
     "delete_cmd_postfix": ") ",
     "delete_cmd_prefix": "rm(",
     "library": "var_list.r",
     "varRefreshCmd": "cat(var_dic_list()) "
    }
   },
   "types_to_exclude": [
    "module",
    "function",
    "builtin_function_or_method",
    "instance",
    "_Feature"
   ],
   "window_display": false
  }
 },
 "nbformat": 4,
 "nbformat_minor": 4
}
