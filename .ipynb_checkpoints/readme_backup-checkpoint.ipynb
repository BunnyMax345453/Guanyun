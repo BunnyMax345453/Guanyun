{
 "cells": [
  {
   "cell_type": "markdown",
   "metadata": {},
   "source": [
    "# 文件\n",
    "### 羊群效应策略\n",
    "根据每个行业里个股的偏离来判断是否出现羊群效应，并选择行业龙头股进行交易。\n",
    "\n",
    "根据判断羊群效应的方法的不同分为beta, CSAD, CSSD三种方法，分成三个文件。\n",
    "\n",
    ">**参考文献**：\n",
    "\n",
    ">广发证券-行为金融研究系列之六：A股羊群效应投资策略研究-201102\n",
    "### 因子极值策略 \n",
    "对每个行业中成分股相关因子超出极值的比例进行计算，对每个行业里各个因子的超限比例进行整合并由这一整合后的因子进行行业和个股的选择。\n",
    "\n",
    "根据整合方式的不同可以进行调整，这里采用mean版本，并将其他用注释写出。\n",
    "\n",
    ">**参考文献**：\n",
    "\n",
    ">行业轮动系列专题之（九）——基于个股极值比例的行业轮动策略\n",
    "### 数据生成\n",
    "关于从wind和聚矿上获取数据的过程和处理的相关code；\n",
    "\n",
    "因子极值策略中相关因子生成的code；\n",
    "\n",
    "Barra因子和描述因子生成的code；\n",
    "\n",
    ">**参考文献**：\n",
    "\n",
    ">China_Equity_Model_CNE5\n",
    "    \n",
    ">CNE5 Descriptor Details\n",
    "    \n",
    ">MSCI Barra China_Equity_Model_CNE5\n",
    "### 多因子_组合优化 \n",
    "将股票的收益与因子回归，由参数和截距分别获得因子收益矩阵和特殊收益矩阵，\n",
    "\n",
    "对因子收益矩阵进行调整：Newey-West 自相关调整；特征值调整；波动率偏误调整，\n",
    "\n",
    "对特殊收益矩阵进行调整：Newey-West 自相关调整；结构化模型调整；贝叶斯压缩调整；波动率偏误调整，\n",
    "\n",
    "从而最终构建最小期望风险组合。\n",
    "\n",
    ">**参考文献**：\n",
    "\n",
    ">方正证券-“星火”多因子系列（二）：Barra模型进阶多因子模型风险预测-180303\n",
    "\n",
    ">“星火”多因子专题报告（七）：借因子组合之力，优化 Alpha 因子合成\n",
    "### 多因子_机器学习 \n",
    "对机器学习代码进行模块化运算，将不同功能分别保存在不同文档中，\n",
    "\n",
    "通过LR, NN, random forest, CNN四种方法对因子和未来数天的总收益进行训练，\n",
    "\n",
    "将四种方法的训练结果再通过LR合称为一个总因子，通过该因子预测未来数天的股票总收益，\n",
    "\n",
    "在月度的训练和换仓中对历史进行回测。\n",
    "### Github Documents\n",
    "其他来自Github的资料和参考\n",
    "### dataset\n",
    "暂未修改，计划之后百度云数据上传完成后在该文件夹下放百度云盘链接\n",
    "\n",
    "\n"
   ]
  }
 ],
 "metadata": {
  "kernelspec": {
   "display_name": "Python 3",
   "language": "python",
   "name": "python3"
  },
  "language_info": {
   "codemirror_mode": {
    "name": "ipython",
    "version": 3
   },
   "file_extension": ".py",
   "mimetype": "text/x-python",
   "name": "python",
   "nbconvert_exporter": "python",
   "pygments_lexer": "ipython3",
   "version": "3.7.6"
  },
  "toc": {
   "base_numbering": 1,
   "nav_menu": {},
   "number_sections": true,
   "sideBar": true,
   "skip_h1_title": false,
   "title_cell": "Table of Contents",
   "title_sidebar": "Contents",
   "toc_cell": false,
   "toc_position": {},
   "toc_section_display": true,
   "toc_window_display": false
  },
  "varInspector": {
   "cols": {
    "lenName": 16,
    "lenType": 16,
    "lenVar": 40
   },
   "kernels_config": {
    "python": {
     "delete_cmd_postfix": "",
     "delete_cmd_prefix": "del ",
     "library": "var_list.py",
     "varRefreshCmd": "print(var_dic_list())"
    },
    "r": {
     "delete_cmd_postfix": ") ",
     "delete_cmd_prefix": "rm(",
     "library": "var_list.r",
     "varRefreshCmd": "cat(var_dic_list()) "
    }
   },
   "types_to_exclude": [
    "module",
    "function",
    "builtin_function_or_method",
    "instance",
    "_Feature"
   ],
   "window_display": false
  }
 },
 "nbformat": 4,
 "nbformat_minor": 4
}
