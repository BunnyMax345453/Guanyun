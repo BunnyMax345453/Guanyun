{
 "cells": [
  {
   "cell_type": "code",
   "execution_count": 4,
   "metadata": {
    "ExecuteTime": {
     "end_time": "2021-07-22T08:07:37.797916Z",
     "start_time": "2021-07-22T08:07:35.329307Z"
    }
   },
   "outputs": [],
   "source": [
    "import pandas as pd\n",
    "import numpy as np\n",
    "import akshare as ak\n",
    "import statsmodels.formula.api as smf\n",
    "import statsmodels.api as sm\n",
    "from sklearn.preprocessing import StandardScaler\n",
    "from scipy.stats.mstats import winsorize\n",
    "import datetime\n",
    "import math\n",
    "import matplotlib.pyplot as plt"
   ]
  },
  {
   "cell_type": "code",
   "execution_count": 44,
   "metadata": {
    "ExecuteTime": {
     "end_time": "2021-07-22T08:39:01.077130Z",
     "start_time": "2021-07-22T08:39:01.072156Z"
    }
   },
   "outputs": [],
   "source": [
    "dataset_keys = [\n",
    "    '涨跌幅(%)',\n",
    "    'R_f',\n",
    "    'R_m',\n",
    "    'market_cap',\n",
    "    '换手率(%)',\n",
    "    '市净率',\n",
    "    '市盈率',\n",
    "    'total_liability',\n",
    "    'total_assets',\n",
    "    'equities_parent_company_owners',\n",
    "    'preferred_shares_equity',\n",
    "    'total_non_current_liability',\n",
    "    'A股流通市值(元)',\n",
    "    'FY1',\n",
    "    'FY3',\n",
    "    'FY12',\n",
    "    'pcf_ratio',\n",
    "    'operating_revenue',\n",
    "    '总股本(股)',\n",
    "    'eps',\n",
    "]"
   ]
  },
  {
   "cell_type": "code",
   "execution_count": 45,
   "metadata": {
    "ExecuteTime": {
     "end_time": "2021-07-22T08:39:38.564405Z",
     "start_time": "2021-07-22T08:39:04.449552Z"
    }
   },
   "outputs": [],
   "source": [
    "# 读取数据\n",
    "dataset_dict = {}\n",
    "for key in dataset_keys : \n",
    "    dataset_dict[key] = pd.read_csv('dataset/data of factor need/' + key + '.csv', low_memory=False).set_index('date')\n",
    "    \n",
    "# 读取tradingdate，并获取对应一年前的交易日日期\n",
    "trading_date_list = pd.read_csv('dataset/trading_date.csv').iloc[252:,:] \n",
    "dates = trading_date_list.loc[252*2:3000,'date']\n",
    "def last_year_func(x):\n",
    "    index_x = dates[dates.values==x].index\n",
    "    try:\n",
    "        return dates[index_x - 252].values[0]\n",
    "    except : \n",
    "        return np.nan\n",
    "dates_last = dates.apply(last_year_func)  "
   ]
  },
  {
   "cell_type": "code",
   "execution_count": 53,
   "metadata": {
    "ExecuteTime": {
     "end_time": "2021-07-22T08:41:28.044993Z",
     "start_time": "2021-07-22T08:41:28.038932Z"
    }
   },
   "outputs": [],
   "source": [
    "# 读取股票列表stks，这里用来自wind和来自jqdata的数据的交集\n",
    "stks = list(set(dataset_dict['涨跌幅(%)'].columns).intersection(set(dataset_dict['FY3'].columns)))\n",
    "stks.sort()"
   ]
  },
  {
   "cell_type": "markdown",
   "metadata": {},
   "source": [
    "## Beta"
   ]
  },
  {
   "cell_type": "code",
   "execution_count": 43,
   "metadata": {
    "ExecuteTime": {
     "end_time": "2021-07-21T12:39:09.444299Z",
     "start_time": "2021-07-21T12:36:09.172256Z"
    }
   },
   "outputs": [],
   "source": [
    "def beta(stks, dates):\n",
    "    # '000001.SZ'\n",
    "    T = 252\n",
    "    L = 0\n",
    "    half_day = 63\n",
    "    \n",
    "    dates_i = dates[252:]\n",
    "    def beta_inner(date):\n",
    "        index_x = dates[dates.values==date].index\n",
    "        date_last = dates[index_x - 252].values[0]\n",
    "        \n",
    "        stks_data = dataset_dict['涨跌幅(%)'].loc[date_last:date,stks].sort_index(axis=0, ascending=True)\n",
    "        rf_data = dataset_dict['R_f'].loc[date_last:date,'r_f_daily'].sort_index(axis=0, ascending=True)\n",
    "        rm_data = dataset_dict['R_m'].loc[date_last:date,'market'].sort_index(axis=0, ascending=True)\n",
    "        \n",
    "        y = stks_data.sub(rf_data, axis=\"index\")\n",
    "        x = rm_data.sub(rf_data, axis=\"index\")\n",
    "\n",
    "        cov = (y - np.mean(y)).multiply(x - np.mean(x), axis=\"index\")\n",
    "        doc = (x - np.mean(x))**2\n",
    "\n",
    "        a = pd.DataFrame.ewm(cov,halflife=half_day,adjust=False).mean().iloc[-1]\n",
    "        b = pd.DataFrame.ewm(doc,halflife=half_day,adjust=False).mean().iloc[-1] \n",
    "        beta_value = a/b\n",
    "\n",
    "#         alpha_value = np.mean(y) - beta_value * np.mean(x) \n",
    "\n",
    "#         ei = y.sub(alpha_value.add(beta_value.mul(x,axis=0)))\n",
    "        return beta_value\n",
    "    dates_i.index = dates_i\n",
    "    aa = dates_i.apply(beta_inner)    \n",
    "    \n",
    "    return aa\n",
    "\n",
    "beta(stks, dates).to_csv('dataset/barra factor/' + 'beta' + '.csv')"
   ]
  },
  {
   "cell_type": "code",
   "execution_count": null,
   "metadata": {},
   "outputs": [],
   "source": []
  },
  {
   "cell_type": "markdown",
   "metadata": {},
   "source": [
    "## Size"
   ]
  },
  {
   "cell_type": "code",
   "execution_count": 44,
   "metadata": {
    "ExecuteTime": {
     "end_time": "2021-07-21T12:39:21.209415Z",
     "start_time": "2021-07-21T12:39:10.908509Z"
    }
   },
   "outputs": [],
   "source": [
    "def lncap(stks, dates):\n",
    "    # '000001.SZ'\n",
    "    return np.log(dataset_dict['market_cap'].loc[dates,stks])\n",
    "\n",
    "lncap(stks, dates).to_csv('dataset/barra factor/' + 'lncap' + '.csv')"
   ]
  },
  {
   "cell_type": "markdown",
   "metadata": {},
   "source": [
    "## Residual Volatility"
   ]
  },
  {
   "cell_type": "markdown",
   "metadata": {},
   "source": [
    "$$dastd = \\frac{1}{n} \\sum_{t=1}^{n}{w_t {(r_{et} - \\overline{r_e})}^2}$$\n",
    "$$ r_{et} = r_t - r_{ft} $$"
   ]
  },
  {
   "cell_type": "code",
   "execution_count": 46,
   "metadata": {
    "ExecuteTime": {
     "end_time": "2021-07-21T12:43:05.286282Z",
     "start_time": "2021-07-21T12:39:54.981023Z"
    }
   },
   "outputs": [],
   "source": [
    "def dastd(dates):\n",
    "    # '000001.SZ'\n",
    "    T = 252\n",
    "    L = 0\n",
    "    half_day = 42\n",
    "    \n",
    "    dates_i = dates[252:]\n",
    "    def beta_inner(date):\n",
    "        index_x = dates[dates.values==date].index\n",
    "        date_last = dates[index_x - 252].values[0]\n",
    "        \n",
    "        stks_data = dataset_dict['涨跌幅(%)'].loc[date_last:date,stks].sort_index(axis=0, ascending=True)\n",
    "        rf_data = dataset_dict['R_f'].loc[date_last:date,'r_f_daily'].sort_index(axis=0, ascending=True)\n",
    "        rm_data = dataset_dict['R_m'].loc[date_last:date,'market'].sort_index(axis=0, ascending=True)\n",
    "        \n",
    "        ret = stks_data.sub(rf_data, axis=\"index\")\n",
    "        ret_mean = np.mean(ret)\n",
    "\n",
    "        return (pd.DataFrame.ewm((ret - ret_mean)**2, halflife=half_day,adjust=False).mean().iloc[-1]) / (T - L)\n",
    "\n",
    "    dates_i.index = dates_i\n",
    "    aa = dates_i.apply(beta_inner)    \n",
    "    \n",
    "    return aa\n",
    "(dastd(dates)*10000).to_csv('dataset/barra factor/' + 'dastd' + '.csv')"
   ]
  },
  {
   "cell_type": "code",
   "execution_count": null,
   "metadata": {},
   "outputs": [],
   "source": []
  },
  {
   "cell_type": "markdown",
   "metadata": {},
   "source": [
    "$$ Z(T) = \\sum_{t=1}^{T}{[ln(1+r_t)-ln(1+r_{ft})]} $$\n",
    "$$crma = ln(1+Z_{max})-ln(1+Z_{min})$$"
   ]
  },
  {
   "cell_type": "code",
   "execution_count": null,
   "metadata": {},
   "outputs": [],
   "source": []
  },
  {
   "cell_type": "code",
   "execution_count": 50,
   "metadata": {
    "ExecuteTime": {
     "end_time": "2021-07-21T12:57:22.060745Z",
     "start_time": "2021-07-21T12:48:34.108049Z"
    }
   },
   "outputs": [],
   "source": [
    "def cmra(stks, dates) : \n",
    "    stks_chg_data = pd.concat([dataset_dict['R_m'], dataset_dict['R_f']['r_f_daily'], dataset_dict['涨跌幅(%)'][stks]],axis=1).sort_index()\n",
    "    T_month = [21 * month for month in range(13)]\n",
    "    dates_i = dates[252:]\n",
    "    def inner(date):\n",
    "        index_loc = stks_chg_data.index.get_loc(date)\n",
    "        def inner_a(i) : \n",
    "            i = i.values[0]\n",
    "            start_day = index_loc - T_month[i + 1]\n",
    "            end_day = index_loc - T_month[i]\n",
    "            return stks_chg_data.iloc[start_day:end_day, 1:].sum()\n",
    "        innera = pd.DataFrame([i for i in range(12)],index=[i for i in range(12)])\n",
    "        innera = innera.apply(inner_a,axis=1) \n",
    "\n",
    "        def inner_b(i) : \n",
    "            i = i.values[0]\n",
    "            return (np.log(1 + data_df.iloc[:i + 1, 1:]).sub(\n",
    "                    np.log(1 + data_df.iloc[:i + 1, 0]), axis=\"index\")).sum()\n",
    "        innerb = pd.DataFrame([i for i in range(12)],index=[i for i in range(12)])\n",
    "        data_df= innera\n",
    "        innerb = innerb.apply(inner_b,axis=1) \n",
    "        return np.log(1 + np.max(innerb)) - np.log(1 + np.min(innerb))  \n",
    "\n",
    "    dates_i.index = dates_i\n",
    "    aa = dates_i.apply(inner)    \n",
    "    \n",
    "    return aa\n",
    "cmra(stks, dates).to_csv('dataset/barra factor/' + 'cmra' + '.csv')"
   ]
  },
  {
   "cell_type": "code",
   "execution_count": null,
   "metadata": {},
   "outputs": [],
   "source": []
  },
  {
   "cell_type": "markdown",
   "metadata": {},
   "source": [
    "$$ hsigma = std(e_t) $$"
   ]
  },
  {
   "cell_type": "code",
   "execution_count": 42,
   "metadata": {
    "ExecuteTime": {
     "end_time": "2021-07-21T12:35:58.619821Z",
     "start_time": "2021-07-21T12:27:40.276554Z"
    }
   },
   "outputs": [],
   "source": [
    "def hsigma(stks, dates):\n",
    "    # '000001.SZ'\n",
    "    T = 252\n",
    "    L = 0\n",
    "    half_day = 63\n",
    "    \n",
    "    dates_i = dates[252:]\n",
    "    def beta_inner(date):\n",
    "        index_x = dates[dates.values==date].index\n",
    "        date_last = dates[index_x - 252].values[0]\n",
    "        \n",
    "        stks_data = dataset_dict['涨跌幅(%)'].loc[date_last:date,stks].sort_index(axis=0, ascending=True)\n",
    "        rf_data = dataset_dict['R_f'].loc[date_last:date,'r_f_daily'].sort_index(axis=0, ascending=True)\n",
    "        rm_data = dataset_dict['R_m'].loc[date_last:date,'market'].sort_index(axis=0, ascending=True)\n",
    "        \n",
    "        y = stks_data.sub(rf_data, axis=\"index\")\n",
    "        x = rm_data.sub(rf_data, axis=\"index\")\n",
    "\n",
    "        cov = (y - np.mean(y)).multiply(x - np.mean(x), axis=\"index\")\n",
    "        doc = (x - np.mean(x))**2\n",
    "\n",
    "        a = pd.DataFrame.ewm(cov,halflife=half_day,adjust=False).mean().iloc[-1]\n",
    "        b = pd.DataFrame.ewm(doc,halflife=half_day,adjust=False).mean().iloc[-1] \n",
    "        beta_value = a/b\n",
    "\n",
    "        alpha_value = np.mean(y) - (beta_value) * np.mean(x) \n",
    "\n",
    "        ei = y.sub(alpha_value.add(pd.DataFrame([beta_value]*len(x),index=x.index).mul(x,axis=0)))\n",
    "        return ei.std()\n",
    "    dates_i.index = dates_i\n",
    "    aa = dates_i.apply(beta_inner)    \n",
    "    \n",
    "    return aa\n",
    "\n",
    "hsigma(stks, dates).to_csv('dataset/barra factor/' + 'hsigma' + '.csv')"
   ]
  },
  {
   "cell_type": "code",
   "execution_count": null,
   "metadata": {},
   "outputs": [],
   "source": []
  },
  {
   "cell_type": "code",
   "execution_count": null,
   "metadata": {},
   "outputs": [],
   "source": []
  },
  {
   "cell_type": "markdown",
   "metadata": {},
   "source": [
    "## Momentum"
   ]
  },
  {
   "cell_type": "markdown",
   "metadata": {},
   "source": [
    "$$rstr =  \\sum_{t=L}^{T+L}{w_t ln(1+r_t)} - \\sum_{t=L}^{T+L}{w_t ln(1+r_{ft})}$$"
   ]
  },
  {
   "cell_type": "raw",
   "metadata": {
    "ExecuteTime": {
     "end_time": "2021-07-21T10:11:11.708752Z",
     "start_time": "2021-07-21T10:08:27.566561Z"
    }
   },
   "source": [
    "    dates_i = dates[504:]\n",
    "    def rstr_inner(date):\n",
    "        index_x = dates[dates.values==date].index\n",
    "        date = dates[index_x - 21].values[0]\n",
    "        date_last = dates[index_x - 504].values[0]\n",
    "        rt = dataset_dict['涨跌幅(%)'].loc[date_last:date,stks].sort_index(axis=0, ascending=True)\n",
    "        rft = dataset_dict['R_f'].loc[date_last:date,'r_f_daily'].sort_index(axis=0, ascending=True)\n",
    "        \n",
    "        return pd.DataFrame.ewm(rt, halflife=half_day,\n",
    "                            adjust=False).mean().iloc[-1] - pd.DataFrame.ewm(\n",
    "                                rft, halflife=half_day,\n",
    "                                adjust=False).mean().iloc[-1]\n",
    "    dates_i.index = dates_i\n",
    "    aa = dates_i.apply(rstr_inner)    \n"
   ]
  },
  {
   "cell_type": "code",
   "execution_count": 51,
   "metadata": {
    "ExecuteTime": {
     "end_time": "2021-07-21T13:00:20.669649Z",
     "start_time": "2021-07-21T12:57:23.538137Z"
    }
   },
   "outputs": [],
   "source": [
    "def rstr(dates):\n",
    "    dates_i = dates[504:]\n",
    "    def rstr_inner(date):\n",
    "        index_x = dates[dates.values==date].index\n",
    "        date = dates[index_x - 21].values[0]\n",
    "        date_last = dates[index_x - 504].values[0]\n",
    "        rt = dataset_dict['涨跌幅(%)'].loc[date_last:date,stks].sort_index(axis=0, ascending=True)\n",
    "        rft = dataset_dict['R_f'].loc[date_last:date,'r_f_daily'].sort_index(axis=0, ascending=True)\n",
    "        \n",
    "        return pd.DataFrame.ewm(rt, halflife=half_day,\n",
    "                            adjust=False).mean().iloc[-1] - pd.DataFrame.ewm(\n",
    "                                rft, halflife=half_day,\n",
    "                                adjust=False).mean().iloc[-1]\n",
    "    dates_i.index = dates_i\n",
    "    aa = dates_i.apply(rstr_inner)    \n",
    "    return aa\n",
    "rstr(dates).to_csv('dataset/barra factor/' + 'rstr' + '.csv')"
   ]
  },
  {
   "cell_type": "markdown",
   "metadata": {},
   "source": [
    "## Liquidity"
   ]
  },
  {
   "cell_type": "markdown",
   "metadata": {},
   "source": [
    "$$stom=ln(\\sum^{21}_{t=1}{\\frac{V_t}{S_t}})$$"
   ]
  },
  {
   "cell_type": "code",
   "execution_count": 15,
   "metadata": {
    "ExecuteTime": {
     "end_time": "2021-06-30T15:12:55.627750Z",
     "start_time": "2021-06-30T15:12:52.806744Z"
    }
   },
   "outputs": [],
   "source": [
    "stks_stom_data = pd.read_csv('dataset/后复权数据-分类/换手率(%).csv',encoding='gbk').set_index('日期')[stks].sort_index()"
   ]
  },
  {
   "cell_type": "code",
   "execution_count": 52,
   "metadata": {
    "ExecuteTime": {
     "end_time": "2021-07-21T13:01:02.912669Z",
     "start_time": "2021-07-21T13:00:22.189800Z"
    }
   },
   "outputs": [],
   "source": [
    "def stom(date):\n",
    "    # '000001.SZ'\n",
    "    T = 21\n",
    "    L = 0\n",
    "    dates_i = dates[21:]\n",
    "    def stom_inner(date):\n",
    "        index_x = dates[dates.values==date].index\n",
    "        date_last = dates[index_x - 21].values[0]\n",
    "        stks_stom_data = dataset_dict['换手率(%)'].loc[date_last:date,stks]\n",
    "        \n",
    "        return np.log(stks_stom_data.sum())\n",
    "    dates_i.index = dates_i\n",
    "    aa = dates_i.apply(stom_inner)    \n",
    "    return aa\n",
    "\n",
    "stom_data = stom(date)\n",
    "stom_data.to_csv('dataset/barra factor/' + 'stom' + '.csv')"
   ]
  },
  {
   "cell_type": "markdown",
   "metadata": {},
   "source": [
    "$$stoq=ln(\\frac{1}{3}\\sum^{3}_{t=1}{exp(stom_t)})$$"
   ]
  },
  {
   "cell_type": "code",
   "execution_count": 53,
   "metadata": {
    "ExecuteTime": {
     "end_time": "2021-07-21T13:01:48.093696Z",
     "start_time": "2021-07-21T13:01:05.326453Z"
    }
   },
   "outputs": [],
   "source": [
    "def stoq():\n",
    "    # '000001.SZ'\n",
    "    T = 21 * 3\n",
    "    L = 0\n",
    "    dates = pd.Series(stom_data.index.to_list())\n",
    "    dates_i = dates[T: ]\n",
    "    def stoq_inner(date):\n",
    "        index_x = dates[dates.values==date].index\n",
    "        date_last = dates[index_x - T].values[0]\n",
    "        stks_stom_data = stom_data.loc[date_last:date,stks]\n",
    "        \n",
    "        return np.log(stks_stom_data.sum()/3)\n",
    "    dates_i.index = dates_i\n",
    "    aa = dates_i.apply(stoq_inner)    \n",
    "    return aa\n",
    "stoq().to_csv('dataset/barra factor/' + 'stoq' + '.csv')"
   ]
  },
  {
   "cell_type": "markdown",
   "metadata": {},
   "source": [
    "$$stoa=ln(\\frac{1}{12}\\sum^{12}_{1}{exp(stom_t)})$$"
   ]
  },
  {
   "cell_type": "code",
   "execution_count": 54,
   "metadata": {
    "ExecuteTime": {
     "end_time": "2021-07-21T13:02:41.734415Z",
     "start_time": "2021-07-21T13:01:49.823938Z"
    }
   },
   "outputs": [],
   "source": [
    "def stoa():\n",
    "    # '000001.SZ'\n",
    "    T = 21 * 12\n",
    "    L = 0\n",
    "    dates = pd.Series(stom_data.index.to_list())\n",
    "    dates_i = dates[T: ]\n",
    "    def stoa_inner(date):\n",
    "        index_x = dates[dates.values==date].index\n",
    "        date_last = dates[index_x - T].values[0]\n",
    "        stks_stom_data = stom_data.loc[date_last:date,stks]\n",
    "        \n",
    "        return np.log(stks_stom_data.sum()/12)\n",
    "    dates_i.index = dates_i\n",
    "    aa = dates_i.apply(stoa_inner)    \n",
    "    return aa\n",
    "stoa().to_csv('dataset/barra factor/' + 'stoa' + '.csv')"
   ]
  },
  {
   "cell_type": "markdown",
   "metadata": {},
   "source": [
    "## Non Linear Size"
   ]
  },
  {
   "cell_type": "code",
   "execution_count": 92,
   "metadata": {
    "ExecuteTime": {
     "end_time": "2021-07-22T09:01:16.969032Z",
     "start_time": "2021-07-22T08:59:05.766231Z"
    }
   },
   "outputs": [],
   "source": [
    "def nlsize(stks, date):\n",
    "    size_factor = np.log(dataset_dict['market_cap'].loc[dates,stks])\n",
    "    size_factor_3 = size_factor**3\n",
    "#     size_factor = sm.add_constant(size_factor)\n",
    "    dates_i = dates[252: ]\n",
    "    \n",
    "    def filter_extreme_3sigma(data,n=3): \n",
    "        series = data.copy()\n",
    "        mean = series.mean()\n",
    "        std = series.std()\n",
    "        max_range = mean + n*std\n",
    "        min_range = mean - n*std\n",
    "        series = np.clip(series,min_range,max_range)\n",
    "        return series\n",
    "\n",
    "    def ols_inner(date):\n",
    "        model = sm.OLS(size_factor_3.loc[date],sm.add_constant(size_factor.astype(float).loc[date]), missing=\"drop\").fit()\n",
    "        e_value = pd.DataFrame(model.fittedvalues - size_factor_3.loc[date])\n",
    "#         e_value.loc[:, 0] = winsorize(e_value[0],limits=[0.01, 0.01])  # 1% std 5 or\n",
    "        e_value.loc[:, 0] = filter_extreme_3sigma(e_value[0])  # 1% std 5 or\n",
    "        scaler = StandardScaler()\n",
    "        scaler.fit(e_value)\n",
    "        e_value[0] = scaler.transform(e_value)\n",
    "        return e_value[0]\n",
    "    dates_i.index = dates_i\n",
    "    aa = dates_i.apply(ols_inner)    \n",
    "    \n",
    "    return aa\n",
    "    \n",
    "nlsize(stks, date).to_csv('dataset/barra factor/' + 'nlsize' + '.csv')"
   ]
  },
  {
   "cell_type": "code",
   "execution_count": null,
   "metadata": {},
   "outputs": [],
   "source": []
  },
  {
   "cell_type": "markdown",
   "metadata": {},
   "source": [
    "## Book to price"
   ]
  },
  {
   "cell_type": "code",
   "execution_count": 55,
   "metadata": {
    "ExecuteTime": {
     "end_time": "2021-07-21T13:02:49.705013Z",
     "start_time": "2021-07-21T13:02:43.621649Z"
    }
   },
   "outputs": [],
   "source": [
    "def btop(stks, dates) : \n",
    "    \n",
    "    return dataset_dict['市净率'].loc[dates[252:],stks]\n",
    "\n",
    "btop(stks, dates).to_csv('dataset/barra factor/' + 'btop' + '.csv')"
   ]
  },
  {
   "cell_type": "code",
   "execution_count": null,
   "metadata": {},
   "outputs": [],
   "source": []
  },
  {
   "cell_type": "markdown",
   "metadata": {},
   "source": [
    "## Earning yeild"
   ]
  },
  {
   "cell_type": "code",
   "execution_count": 38,
   "metadata": {
    "ExecuteTime": {
     "end_time": "2021-07-22T08:32:03.600068Z",
     "start_time": "2021-07-22T08:31:56.289178Z"
    }
   },
   "outputs": [],
   "source": [
    "def epfwd(): \n",
    "    return dataset_dict['FY12'].loc[dates[252:],stks] / dataset_dict['market_cap'].loc[dates[252:],stks]\n",
    "\n",
    "epfwd().to_csv('dataset/barra factor/' + 'epfwd' + '.csv')"
   ]
  },
  {
   "cell_type": "code",
   "execution_count": 47,
   "metadata": {
    "ExecuteTime": {
     "end_time": "2021-07-22T08:39:51.498146Z",
     "start_time": "2021-07-22T08:39:45.437826Z"
    }
   },
   "outputs": [],
   "source": [
    "def cetop(): \n",
    "    return dataset_dict['pcf_ratio'].loc[dates[252:],stks]\n",
    "\n",
    "cetop().to_csv('dataset/barra factor/' + 'cetop' + '.csv')"
   ]
  },
  {
   "cell_type": "code",
   "execution_count": 48,
   "metadata": {
    "ExecuteTime": {
     "end_time": "2021-07-22T08:40:05.423715Z",
     "start_time": "2021-07-22T08:39:55.086216Z"
    }
   },
   "outputs": [],
   "source": [
    "def etop(): \n",
    "    return 1 / dataset_dict['市盈率'].loc[dates[252:],stks]\n",
    "\n",
    "etop().to_csv('dataset/barra factor/' + 'etop' + '.csv')"
   ]
  },
  {
   "cell_type": "markdown",
   "metadata": {},
   "source": [
    "## Growth"
   ]
  },
  {
   "cell_type": "code",
   "execution_count": 54,
   "metadata": {
    "ExecuteTime": {
     "end_time": "2021-07-22T08:41:37.623775Z",
     "start_time": "2021-07-22T08:41:32.390822Z"
    }
   },
   "outputs": [],
   "source": [
    "def egrlf(): \n",
    "    return dataset_dict['FY3'].loc[dates[252:],stks]\n",
    "egrlf().to_csv('dataset/barra factor/' + 'egrlf' + '.csv')"
   ]
  },
  {
   "cell_type": "code",
   "execution_count": 55,
   "metadata": {
    "ExecuteTime": {
     "end_time": "2021-07-22T08:41:46.415805Z",
     "start_time": "2021-07-22T08:41:40.945081Z"
    }
   },
   "outputs": [],
   "source": [
    "def egrsf(): \n",
    "    return dataset_dict['FY1'].loc[dates[252:],stks]\n",
    "egrsf().to_csv('dataset/barra factor/' + 'egrsf' + '.csv')"
   ]
  },
  {
   "cell_type": "code",
   "execution_count": 58,
   "metadata": {
    "ExecuteTime": {
     "end_time": "2021-07-22T08:43:20.426824Z",
     "start_time": "2021-07-22T08:42:59.249072Z"
    }
   },
   "outputs": [],
   "source": [
    "def egro(dates): \n",
    "    data_df = dataset_dict['eps'].loc[dates[252:],stks]\n",
    "    dates_i = dates[252*6: ]\n",
    "    def ols_inner(date):\n",
    "        index_loc = data_df.index.get_loc(date)\n",
    "        ols_list = []\n",
    "        for i in range(5) : \n",
    "            ols_list.append(index_loc - 252*i)\n",
    "        y = data_df.iloc[ols_list,:]\n",
    "        x = [1,2,3,4,5]\n",
    "\n",
    "        cov = (y - np.mean(y)).multiply(x - np.mean(x), axis=\"index\")\n",
    "        doc = (x - np.mean(x))**2\n",
    "        \n",
    "        a = cov.sum()\n",
    "        b = doc.sum()\n",
    "        beta_value = a/b\n",
    "        return beta_value\n",
    "    dates_i.index = dates_i\n",
    "    aa = dates_i.apply(ols_inner)    \n",
    "    \n",
    "    return aa\n",
    "egro(dates).to_csv('dataset/barra factor/' + 'btop' + '.csv')"
   ]
  },
  {
   "cell_type": "code",
   "execution_count": 60,
   "metadata": {
    "ExecuteTime": {
     "end_time": "2021-07-22T08:43:57.346811Z",
     "start_time": "2021-07-22T08:43:35.607007Z"
    }
   },
   "outputs": [],
   "source": [
    "def sgro(dates): \n",
    "    data_df = dataset_dict['operating_revenue'].loc[dates[252:],stks] / dataset_dict['总股本(股)'].loc[dates[252:],stks]\n",
    "    dates = dates[252*6: ]\n",
    "    def ols_inner(date):\n",
    "        index_loc = data_df.index.get_loc(date)\n",
    "        ols_list = []\n",
    "        for i in range(5) : \n",
    "            ols_list.append(index_loc - 252*i)\n",
    "        y = data_df.iloc[ols_list,:]\n",
    "        x = [1,2,3,4,5]\n",
    "\n",
    "        cov = (y - np.mean(y)).multiply(x - np.mean(x), axis=\"index\")\n",
    "        doc = (x - np.mean(x))**2\n",
    "        \n",
    "        a = cov.sum()\n",
    "        b = doc.sum()\n",
    "        beta_value = a/b\n",
    "        return beta_value\n",
    "    dates_i.index = dates_i\n",
    "    aa = dates_i.apply(ols_inner)    \n",
    "    \n",
    "    return aa\n",
    "sgro(dates).to_csv('dataset/barra factor/' + 'sgro' + '.csv')"
   ]
  },
  {
   "cell_type": "markdown",
   "metadata": {},
   "source": [
    "## Leverage"
   ]
  },
  {
   "cell_type": "markdown",
   "metadata": {},
   "source": [
    "$$ mlev = \\frac{me+pe+ld}{me}$$\n",
    "mlev: 市场杠杆,me: 普通股市值,pe: 优先股账面价值,ld: 长期负债账面价值"
   ]
  },
  {
   "cell_type": "code",
   "execution_count": 56,
   "metadata": {
    "ExecuteTime": {
     "end_time": "2021-07-21T13:03:01.897193Z",
     "start_time": "2021-07-21T13:02:51.388064Z"
    }
   },
   "outputs": [],
   "source": [
    "def mlev(stks, dates):\n",
    "    result = (dataset_dict['A股流通市值(元)'].loc[dates[252:],stks] + \\\n",
    "            dataset_dict['preferred_shares_equity'].loc[dates[252:],stks].fillna(0) + \\\n",
    "            dataset_dict['total_non_current_liability'].loc[dates[252:],stks].fillna(0)) / \\\n",
    "            dataset_dict['A股流通市值(元)'].loc[dates[252:],stks]\n",
    "    return result\n",
    "\n",
    "\n",
    "mlev(stks, dates).to_csv('dataset/barra factor/' + 'mlev' + '.csv')"
   ]
  },
  {
   "cell_type": "markdown",
   "metadata": {},
   "source": [
    "$$ dtoa = \\frac{td}{ta}$$\n",
    "dtoa: 资产负债比,td: 总负债账面价值,ta: 总资产账面价值"
   ]
  },
  {
   "cell_type": "code",
   "execution_count": 57,
   "metadata": {
    "ExecuteTime": {
     "end_time": "2021-07-21T13:03:13.889189Z",
     "start_time": "2021-07-21T13:03:03.620235Z"
    }
   },
   "outputs": [],
   "source": [
    "def dtoa(stks, dates) : \n",
    "    # new\n",
    "    return dataset_dict['total_liability'].loc[dates[252:],stks] / dataset_dict['total_assets'].loc[dates[252:],stks]\n",
    "dtoa(stks, dates).to_csv('dataset/barra factor/' + 'dtoa' + '.csv')"
   ]
  },
  {
   "cell_type": "markdown",
   "metadata": {},
   "source": [
    "$$ blev = \\frac{be+pe+ld}{be}$$\n",
    "blev: 账面杠杆,be: 普通股账面价值,pe: 优先股账面价值,ld: 长期负债账面价值"
   ]
  },
  {
   "cell_type": "code",
   "execution_count": 58,
   "metadata": {
    "ExecuteTime": {
     "end_time": "2021-07-21T13:03:25.569762Z",
     "start_time": "2021-07-21T13:03:15.556990Z"
    }
   },
   "outputs": [],
   "source": [
    "def blev(stks, date) : \n",
    "    result = (dataset_dict['equities_parent_company_owners'].loc[dates[252:],stks] + \\\n",
    "            dataset_dict['preferred_shares_equity'].loc[dates[252:],stks].fillna(0) + \\\n",
    "            dataset_dict['total_non_current_liability'].loc[dates[252:],stks].fillna(0)) / \\\n",
    "            dataset_dict['equities_parent_company_owners'].loc[dates[252:],stks]\n",
    "    return result\n",
    "\n",
    "blev(stks, date).to_csv('dataset/barra factor/' + 'blev' + '.csv')"
   ]
  },
  {
   "cell_type": "code",
   "execution_count": null,
   "metadata": {},
   "outputs": [],
   "source": []
  },
  {
   "cell_type": "code",
   "execution_count": null,
   "metadata": {},
   "outputs": [],
   "source": []
  }
 ],
 "metadata": {
  "kernelspec": {
   "display_name": "Python 3",
   "language": "python",
   "name": "python3"
  },
  "language_info": {
   "codemirror_mode": {
    "name": "ipython",
    "version": 3
   },
   "file_extension": ".py",
   "mimetype": "text/x-python",
   "name": "python",
   "nbconvert_exporter": "python",
   "pygments_lexer": "ipython3",
   "version": "3.7.6"
  },
  "toc": {
   "base_numbering": 1,
   "nav_menu": {},
   "number_sections": true,
   "sideBar": true,
   "skip_h1_title": false,
   "title_cell": "Table of Contents",
   "title_sidebar": "Contents",
   "toc_cell": false,
   "toc_position": {},
   "toc_section_display": true,
   "toc_window_display": false
  },
  "varInspector": {
   "cols": {
    "lenName": 16,
    "lenType": 16,
    "lenVar": 40
   },
   "kernels_config": {
    "python": {
     "delete_cmd_postfix": "",
     "delete_cmd_prefix": "del ",
     "library": "var_list.py",
     "varRefreshCmd": "print(var_dic_list())"
    },
    "r": {
     "delete_cmd_postfix": ") ",
     "delete_cmd_prefix": "rm(",
     "library": "var_list.r",
     "varRefreshCmd": "cat(var_dic_list()) "
    }
   },
   "types_to_exclude": [
    "module",
    "function",
    "builtin_function_or_method",
    "instance",
    "_Feature"
   ],
   "window_display": false
  }
 },
 "nbformat": 4,
 "nbformat_minor": 4
}
