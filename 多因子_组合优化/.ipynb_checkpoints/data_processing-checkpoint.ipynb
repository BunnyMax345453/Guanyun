{
 "cells": [
  {
   "cell_type": "code",
   "execution_count": null,
   "metadata": {},
   "outputs": [],
   "source": [
    "\"\"\"\n",
    "对于生成的或来自聚宽的Barra因子，对其进行格式的调整，添加01变量行业因子\n",
    "使之可以满足后续组合优化所需的格式。\n",
    "由于每个月进行一次组合优化的配置，所以对每个月的计算配置的当日获取之前一段时间的因子数据，\n",
    "将过去这一段时间的数据保存为一个新的csv文件以备后续调用\n",
    "\"\"\""
   ]
  },
  {
   "cell_type": "code",
   "execution_count": null,
   "metadata": {},
   "outputs": [],
   "source": [
    "import os\n",
    "os.chdir('D:/Python/Flies/Guanyun/barra/dataset/')\n",
    "import pandas as pd\n",
    "import numpy as np\n",
    "import akshare as ak\n",
    "import statsmodels.formula.api as smf\n",
    "import statsmodels.api as sm\n",
    "from sklearn.preprocessing import StandardScaler\n",
    "from scipy.stats.mstats import winsorize\n",
    "import datetime\n",
    "import math\n",
    "import matplotlib.pyplot\n",
    "import alphalens\n",
    "import copy"
   ]
  },
  {
   "cell_type": "markdown",
   "metadata": {},
   "source": [
    "# 数据导入和整理"
   ]
  },
  {
   "cell_type": "code",
   "execution_count": 7,
   "metadata": {
    "ExecuteTime": {
     "end_time": "2021-09-18T03:30:58.623103Z",
     "start_time": "2021-09-18T03:30:58.618151Z"
    }
   },
   "outputs": [],
   "source": [
    "\"\"\"\n",
    "对保存的Barra因子csv文件读取\n",
    "每个csv文件文件名为Barra因子名.csv，列为stock，行为date\n",
    "\"\"\"\n",
    "for root, dirs, files in os.walk('jqbarra_2019/'):\n",
    "    pass\n",
    "files_list = []\n",
    "dataset_dict = {}\n",
    "for file in files : \n",
    "    key = file[:-4]\n",
    "    files_list.append(key)\n",
    "    dataset_dict[key] = pd.read_csv('jqbarra_2019/' + file, low_memory=False).set_index('Unnamed: 0')\n",
    "    \n",
    "\"\"\"\n",
    "去除最后几日的日期，并对所有dataframe对齐日期\n",
    "获取股票list\n",
    "\"\"\"\n",
    "date_ = dataset_dict['beta'].index.to_list()\n",
    "date_ = date_[:-27]\n",
    "for file in files_list : \n",
    "    dataset_dict[key] = dataset_dict[key].loc[date_]\n",
    "stocks_ = dataset_dict['beta'].columns.to_list()\n",
    "\n",
    "\"\"\"\n",
    "由于涨跌幅，市值和Barra因子来自不同的平台，这里对它们的股票取交集，\n",
    "将日涨跌幅和市值也作为因子纳入因子dataframe的dict中去\n",
    "\"\"\"\n",
    "for key in ['涨跌幅(%)', '总市值(元)']:\n",
    "    x = pd.read_csv('后复权数据-分类/' + key + '.csv', low_memory=False, encoding='gbk')\n",
    "    x = x.rename(columns = {\"日期\": \"date\"}).set_index('date')\n",
    "    x_columns = x.columns.to_list()\n",
    "    for i in range(len(x_columns)) : \n",
    "        if x_columns[i][:1] == '6' :   # 将wind的股票名称格式调整为joinquant上的股票名称格式\n",
    "            x_columns[i] = x_columns[i][:6] + '.XSHG'\n",
    "        else : \n",
    "            x_columns[i] = x_columns[i][:6] + '.XSHE'\n",
    "    x.columns = x_columns\n",
    "    x_columns = list(set(x_columns) & set(stocks_))  # 取交集\n",
    "    x = x.loc[date_,x_columns]\n",
    "    if key == '涨跌幅(%)': key = 'ret'\n",
    "    if key == '总市值(元)': key = 'capital'\n",
    "    print(key)\n",
    "    dataset_dict[key] = x"
   ]
  },
  {
   "cell_type": "markdown",
   "metadata": {},
   "source": [
    "# 添加行业"
   ]
  },
  {
   "cell_type": "code",
   "execution_count": 41,
   "metadata": {
    "ExecuteTime": {
     "end_time": "2021-09-18T03:44:16.776402Z",
     "start_time": "2021-09-18T03:44:16.559690Z"
    }
   },
   "outputs": [],
   "source": [
    "\"\"\"\n",
    "导入行业成分股信息sector_content_df\n",
    "列为各个申万一级行业分类的行业代码，行为日期，value为该行业该日的成分股list\n",
    "这样在长期回测中可以减小因为成分股变动造成的影响。（已废用，现在选用2019-04-30的成分股）\n",
    "最终获得各个股票所属行业，将其作为行业因子加入因子dataframe的dict中去\n",
    "\"\"\"\n",
    "sector_content_df = pd.read_csv('sector_content_df.csv').set_index('date')\n",
    "import re\n",
    "p = re.compile(r'(\\d+.[A-Z]+)')\n",
    "def findall_apply_func(y):\n",
    "    def findall_apply_inner_func(df_str,y) : \n",
    "        return p.findall(df_str)\n",
    "    return y.apply(findall_apply_inner_func, args=(y,))\n",
    "sector_content_df = sector_content_df.apply(findall_apply_func,axis=0)\n",
    "sector_content_df = sector_content_df.loc['2019-04-30',:] \n",
    "res = pd.DataFrame()\n",
    "for sec in sector_content_df.index : \n",
    "    res = pd.concat([res,pd.DataFrame(sector_content_df[sec])],axis=1)\n",
    "res.columns = sector_content_df.index\n",
    "\n",
    "sec_df = pd.DataFrame(index=date_, columns=stocks_)\n",
    "for stock in sec_df.columns:\n",
    "    sec_df[stock] = res[res == stock].dropna(how = 'all', axis = 1).columns[0]\n",
    "dataset_dict['industry'] = sec_df"
   ]
  },
  {
   "cell_type": "markdown",
   "metadata": {},
   "source": [
    "# 数据整理成新格式"
   ]
  },
  {
   "cell_type": "code",
   "execution_count": 48,
   "metadata": {
    "ExecuteTime": {
     "end_time": "2021-09-18T09:00:29.926586Z",
     "start_time": "2021-09-18T08:56:58.977721Z"
    },
    "scrolled": true
   },
   "outputs": [
    {
     "name": "stdout",
     "output_type": "stream",
     "text": [
      "2019-01-28\n",
      "2019-01-28\n",
      "2019-03-05\n",
      "2019-03-05\n",
      "2019-04-03\n",
      "2019-04-03\n",
      "2019-05-08\n",
      "2019-05-08\n",
      "2019-06-06\n",
      "2019-06-06\n",
      "2019-07-08\n",
      "2019-07-08\n",
      "2019-08-06\n",
      "2019-08-06\n",
      "2019-09-04\n",
      "2019-09-04\n",
      "2019-10-11\n",
      "2019-10-11\n",
      "2019-11-11\n",
      "2019-11-11\n"
     ]
    }
   ],
   "source": [
    "dataset_stks_df = pd.DataFrame(columns = ['date','stocknames'] + list(dataset_dict.keys()))\n",
    "for stocknames in stocks_:\n",
    "    dataset_stks_df = dataset_stks_df.append([{'stocknames':stocknames}], ignore_index=True)\n",
    "    \n",
    "# 去除前两年的数据防止因为因子生成时开头有些变化率的因子造成头几年没有数据的情况，然后开始进行数据格式的转换\n",
    "t = 505\n",
    "while t <= len(date_) :  \n",
    "    print(date_[t])\n",
    "    dates_index = date_.index(date_[t])\n",
    "    dates_500 = date_[dates_index-505:dates_index-1]\n",
    "    t += 21  # 每月计算一次\n",
    "\n",
    "    dataset_df_sum = pd.DataFrame()\n",
    "    for i in range(len(dates_500)) : \n",
    "        tmp_df = copy.deepcopy(dataset_stks_df)\n",
    "        tmp_df = tmp_df.set_index('stocknames')\n",
    "        tmp_df['date'] = dates_500[i]\n",
    "        for key in dataset_dict.keys() : \n",
    "            try:\n",
    "                tmp_df[key] = pd.DataFrame(dataset_dict[key].loc[dates_500[i]]).sort_index()\n",
    "            except:\n",
    "                print('no data of ' + key + ' in date: ' + dates_500[i])\n",
    "                pass\n",
    "        tmp_df['stocknames'] = tmp_df.index\n",
    "        tmp_df = tmp_df.reset_index(drop=True)        \n",
    "\n",
    "        if len(dataset_df_sum) == 0 : \n",
    "            dataset_df_sum = copy.deepcopy(tmp_df)\n",
    "        else: \n",
    "            dataset_df_sum = pd.concat([dataset_df_sum, tmp_df],axis=0)\n",
    "    dataset_df_sum = dataset_df_sum[[\n",
    "        'date', 'stocknames', 'capital', 'ret', 'industry', 'size', 'beta',\n",
    "        'momentum', 'residual_volatility', 'non_linear_size',\n",
    "        'book_to_price_ratio', 'liquidity', 'earnings_yield', 'growth', 'leverage'\n",
    "    ]]    \n",
    "    dataset_df_sum.to_csv('D:/Python/Flies/Guanyun/barra/dataset/barra processing/total_data_jqdata_2019/' + 'barra_data_' + str(t) + '.csv')\n",
    "    dataset_df_sum = pd.DataFrame()"
   ]
  },
  {
   "cell_type": "code",
   "execution_count": null,
   "metadata": {},
   "outputs": [],
   "source": []
  }
 ],
 "metadata": {
  "kernelspec": {
   "display_name": "Python 3",
   "language": "python",
   "name": "python3"
  },
  "language_info": {
   "codemirror_mode": {
    "name": "ipython",
    "version": 3
   },
   "file_extension": ".py",
   "mimetype": "text/x-python",
   "name": "python",
   "nbconvert_exporter": "python",
   "pygments_lexer": "ipython3",
   "version": "3.7.6"
  },
  "toc": {
   "base_numbering": 1,
   "nav_menu": {},
   "number_sections": true,
   "sideBar": true,
   "skip_h1_title": false,
   "title_cell": "Table of Contents",
   "title_sidebar": "Contents",
   "toc_cell": false,
   "toc_position": {},
   "toc_section_display": true,
   "toc_window_display": false
  },
  "varInspector": {
   "cols": {
    "lenName": 16,
    "lenType": 16,
    "lenVar": 40
   },
   "kernels_config": {
    "python": {
     "delete_cmd_postfix": "",
     "delete_cmd_prefix": "del ",
     "library": "var_list.py",
     "varRefreshCmd": "print(var_dic_list())"
    },
    "r": {
     "delete_cmd_postfix": ") ",
     "delete_cmd_prefix": "rm(",
     "library": "var_list.r",
     "varRefreshCmd": "cat(var_dic_list()) "
    }
   },
   "types_to_exclude": [
    "module",
    "function",
    "builtin_function_or_method",
    "instance",
    "_Feature"
   ],
   "window_display": false
  }
 },
 "nbformat": 4,
 "nbformat_minor": 4
}
